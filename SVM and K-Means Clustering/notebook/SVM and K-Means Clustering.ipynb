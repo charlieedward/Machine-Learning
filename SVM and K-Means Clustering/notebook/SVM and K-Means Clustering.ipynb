{
 "cells": [
  {
   "cell_type": "markdown",
   "id": "2ed2e3b9",
   "metadata": {},
   "source": [
    "Author: KuoChen Huang"
   ]
  },
  {
   "cell_type": "markdown",
   "id": "418aa2e0",
   "metadata": {},
   "source": [
    "## 1. Multi-class and Multi-Label Classification Using Support Vector Machines"
   ]
  },
  {
   "cell_type": "markdown",
   "id": "d37f0a86",
   "metadata": {},
   "source": [
    "### (a) Download the Anuran Calls (MFCCs) Data Set from: https://archive.ics.uci.edu/ml/datasets/Anuran+Calls+%28MFCCs%29. Choose 70% of the data randomly as the training set."
   ]
  },
  {
   "cell_type": "code",
   "execution_count": 1,
   "id": "d60f3199",
   "metadata": {},
   "outputs": [],
   "source": [
    "import pandas as pd\n",
    "import numpy as np\n",
    "from sklearn.model_selection import train_test_split"
   ]
  },
  {
   "cell_type": "code",
   "execution_count": 2,
   "id": "70d844f1",
   "metadata": {},
   "outputs": [],
   "source": [
    "dataset = pd.read_csv('../data/Frogs_MFCCs.csv')\n",
    "\n",
    "x_data = dataset.iloc[:, :-4]\n",
    "y_data = dataset.iloc[:, -4:-1]\n",
    "\n",
    "x_training, x_testing, y_training, y_testing = train_test_split(x_data, y_data, test_size = 0.3, random_state = 526)"
   ]
  },
  {
   "cell_type": "code",
   "execution_count": 3,
   "id": "89ecb3d0",
   "metadata": {},
   "outputs": [
    {
     "data": {
      "text/html": [
       "<div>\n",
       "<style scoped>\n",
       "    .dataframe tbody tr th:only-of-type {\n",
       "        vertical-align: middle;\n",
       "    }\n",
       "\n",
       "    .dataframe tbody tr th {\n",
       "        vertical-align: top;\n",
       "    }\n",
       "\n",
       "    .dataframe thead th {\n",
       "        text-align: right;\n",
       "    }\n",
       "</style>\n",
       "<table border=\"1\" class=\"dataframe\">\n",
       "  <thead>\n",
       "    <tr style=\"text-align: right;\">\n",
       "      <th></th>\n",
       "      <th>MFCCs_ 1</th>\n",
       "      <th>MFCCs_ 2</th>\n",
       "      <th>MFCCs_ 3</th>\n",
       "      <th>MFCCs_ 4</th>\n",
       "      <th>MFCCs_ 5</th>\n",
       "      <th>MFCCs_ 6</th>\n",
       "      <th>MFCCs_ 7</th>\n",
       "      <th>MFCCs_ 8</th>\n",
       "      <th>MFCCs_ 9</th>\n",
       "      <th>MFCCs_10</th>\n",
       "      <th>...</th>\n",
       "      <th>MFCCs_13</th>\n",
       "      <th>MFCCs_14</th>\n",
       "      <th>MFCCs_15</th>\n",
       "      <th>MFCCs_16</th>\n",
       "      <th>MFCCs_17</th>\n",
       "      <th>MFCCs_18</th>\n",
       "      <th>MFCCs_19</th>\n",
       "      <th>MFCCs_20</th>\n",
       "      <th>MFCCs_21</th>\n",
       "      <th>MFCCs_22</th>\n",
       "    </tr>\n",
       "  </thead>\n",
       "  <tbody>\n",
       "    <tr>\n",
       "      <th>1360</th>\n",
       "      <td>1.0</td>\n",
       "      <td>0.213504</td>\n",
       "      <td>0.270196</td>\n",
       "      <td>0.498984</td>\n",
       "      <td>0.138769</td>\n",
       "      <td>-0.001015</td>\n",
       "      <td>-0.114710</td>\n",
       "      <td>0.075750</td>\n",
       "      <td>0.239891</td>\n",
       "      <td>-0.084869</td>\n",
       "      <td>...</td>\n",
       "      <td>0.299839</td>\n",
       "      <td>-0.201315</td>\n",
       "      <td>-0.169640</td>\n",
       "      <td>0.175490</td>\n",
       "      <td>0.117356</td>\n",
       "      <td>-0.044406</td>\n",
       "      <td>-0.137196</td>\n",
       "      <td>-0.117280</td>\n",
       "      <td>0.123393</td>\n",
       "      <td>0.166512</td>\n",
       "    </tr>\n",
       "    <tr>\n",
       "      <th>2328</th>\n",
       "      <td>1.0</td>\n",
       "      <td>0.177790</td>\n",
       "      <td>0.140488</td>\n",
       "      <td>0.525766</td>\n",
       "      <td>0.193925</td>\n",
       "      <td>-0.078526</td>\n",
       "      <td>-0.182234</td>\n",
       "      <td>0.120085</td>\n",
       "      <td>0.280281</td>\n",
       "      <td>-0.007977</td>\n",
       "      <td>...</td>\n",
       "      <td>0.255650</td>\n",
       "      <td>-0.134378</td>\n",
       "      <td>-0.178376</td>\n",
       "      <td>0.097089</td>\n",
       "      <td>0.123520</td>\n",
       "      <td>-0.039748</td>\n",
       "      <td>-0.080865</td>\n",
       "      <td>0.004102</td>\n",
       "      <td>0.190498</td>\n",
       "      <td>0.160136</td>\n",
       "    </tr>\n",
       "    <tr>\n",
       "      <th>1926</th>\n",
       "      <td>1.0</td>\n",
       "      <td>0.303753</td>\n",
       "      <td>0.140927</td>\n",
       "      <td>0.536417</td>\n",
       "      <td>0.216087</td>\n",
       "      <td>-0.000319</td>\n",
       "      <td>-0.120920</td>\n",
       "      <td>0.086681</td>\n",
       "      <td>0.274563</td>\n",
       "      <td>0.015642</td>\n",
       "      <td>...</td>\n",
       "      <td>0.421249</td>\n",
       "      <td>-0.010804</td>\n",
       "      <td>-0.270545</td>\n",
       "      <td>0.017082</td>\n",
       "      <td>0.173229</td>\n",
       "      <td>-0.022801</td>\n",
       "      <td>-0.148422</td>\n",
       "      <td>-0.088603</td>\n",
       "      <td>0.088285</td>\n",
       "      <td>0.224479</td>\n",
       "    </tr>\n",
       "    <tr>\n",
       "      <th>1332</th>\n",
       "      <td>1.0</td>\n",
       "      <td>0.357981</td>\n",
       "      <td>0.346439</td>\n",
       "      <td>0.506426</td>\n",
       "      <td>0.088108</td>\n",
       "      <td>0.030308</td>\n",
       "      <td>-0.070965</td>\n",
       "      <td>0.082785</td>\n",
       "      <td>0.300255</td>\n",
       "      <td>-0.027072</td>\n",
       "      <td>...</td>\n",
       "      <td>0.267118</td>\n",
       "      <td>-0.278758</td>\n",
       "      <td>-0.224236</td>\n",
       "      <td>0.206549</td>\n",
       "      <td>0.105818</td>\n",
       "      <td>-0.118106</td>\n",
       "      <td>-0.063160</td>\n",
       "      <td>-0.007875</td>\n",
       "      <td>0.194263</td>\n",
       "      <td>0.169475</td>\n",
       "    </tr>\n",
       "    <tr>\n",
       "      <th>2272</th>\n",
       "      <td>1.0</td>\n",
       "      <td>0.114527</td>\n",
       "      <td>0.048106</td>\n",
       "      <td>0.475947</td>\n",
       "      <td>0.220609</td>\n",
       "      <td>-0.033166</td>\n",
       "      <td>-0.217028</td>\n",
       "      <td>-0.036408</td>\n",
       "      <td>0.196728</td>\n",
       "      <td>0.066067</td>\n",
       "      <td>...</td>\n",
       "      <td>0.220457</td>\n",
       "      <td>-0.147305</td>\n",
       "      <td>-0.228344</td>\n",
       "      <td>0.080177</td>\n",
       "      <td>0.145465</td>\n",
       "      <td>-0.048835</td>\n",
       "      <td>-0.167525</td>\n",
       "      <td>-0.137310</td>\n",
       "      <td>0.095916</td>\n",
       "      <td>0.188748</td>\n",
       "    </tr>\n",
       "  </tbody>\n",
       "</table>\n",
       "<p>5 rows × 22 columns</p>\n",
       "</div>"
      ],
      "text/plain": [
       "      MFCCs_ 1  MFCCs_ 2  MFCCs_ 3  MFCCs_ 4  MFCCs_ 5  MFCCs_ 6  MFCCs_ 7  \\\n",
       "1360       1.0  0.213504  0.270196  0.498984  0.138769 -0.001015 -0.114710   \n",
       "2328       1.0  0.177790  0.140488  0.525766  0.193925 -0.078526 -0.182234   \n",
       "1926       1.0  0.303753  0.140927  0.536417  0.216087 -0.000319 -0.120920   \n",
       "1332       1.0  0.357981  0.346439  0.506426  0.088108  0.030308 -0.070965   \n",
       "2272       1.0  0.114527  0.048106  0.475947  0.220609 -0.033166 -0.217028   \n",
       "\n",
       "      MFCCs_ 8  MFCCs_ 9  MFCCs_10  ...  MFCCs_13  MFCCs_14  MFCCs_15  \\\n",
       "1360  0.075750  0.239891 -0.084869  ...  0.299839 -0.201315 -0.169640   \n",
       "2328  0.120085  0.280281 -0.007977  ...  0.255650 -0.134378 -0.178376   \n",
       "1926  0.086681  0.274563  0.015642  ...  0.421249 -0.010804 -0.270545   \n",
       "1332  0.082785  0.300255 -0.027072  ...  0.267118 -0.278758 -0.224236   \n",
       "2272 -0.036408  0.196728  0.066067  ...  0.220457 -0.147305 -0.228344   \n",
       "\n",
       "      MFCCs_16  MFCCs_17  MFCCs_18  MFCCs_19  MFCCs_20  MFCCs_21  MFCCs_22  \n",
       "1360  0.175490  0.117356 -0.044406 -0.137196 -0.117280  0.123393  0.166512  \n",
       "2328  0.097089  0.123520 -0.039748 -0.080865  0.004102  0.190498  0.160136  \n",
       "1926  0.017082  0.173229 -0.022801 -0.148422 -0.088603  0.088285  0.224479  \n",
       "1332  0.206549  0.105818 -0.118106 -0.063160 -0.007875  0.194263  0.169475  \n",
       "2272  0.080177  0.145465 -0.048835 -0.167525 -0.137310  0.095916  0.188748  \n",
       "\n",
       "[5 rows x 22 columns]"
      ]
     },
     "execution_count": 3,
     "metadata": {},
     "output_type": "execute_result"
    }
   ],
   "source": [
    "x_training.head()"
   ]
  },
  {
   "cell_type": "code",
   "execution_count": 4,
   "id": "ba908f2c",
   "metadata": {},
   "outputs": [
    {
     "data": {
      "text/html": [
       "<div>\n",
       "<style scoped>\n",
       "    .dataframe tbody tr th:only-of-type {\n",
       "        vertical-align: middle;\n",
       "    }\n",
       "\n",
       "    .dataframe tbody tr th {\n",
       "        vertical-align: top;\n",
       "    }\n",
       "\n",
       "    .dataframe thead th {\n",
       "        text-align: right;\n",
       "    }\n",
       "</style>\n",
       "<table border=\"1\" class=\"dataframe\">\n",
       "  <thead>\n",
       "    <tr style=\"text-align: right;\">\n",
       "      <th></th>\n",
       "      <th>Family</th>\n",
       "      <th>Genus</th>\n",
       "      <th>Species</th>\n",
       "    </tr>\n",
       "  </thead>\n",
       "  <tbody>\n",
       "    <tr>\n",
       "      <th>1360</th>\n",
       "      <td>Leptodactylidae</td>\n",
       "      <td>Adenomera</td>\n",
       "      <td>AdenomeraHylaedactylus</td>\n",
       "    </tr>\n",
       "    <tr>\n",
       "      <th>2328</th>\n",
       "      <td>Leptodactylidae</td>\n",
       "      <td>Adenomera</td>\n",
       "      <td>AdenomeraHylaedactylus</td>\n",
       "    </tr>\n",
       "    <tr>\n",
       "      <th>1926</th>\n",
       "      <td>Leptodactylidae</td>\n",
       "      <td>Adenomera</td>\n",
       "      <td>AdenomeraHylaedactylus</td>\n",
       "    </tr>\n",
       "    <tr>\n",
       "      <th>1332</th>\n",
       "      <td>Leptodactylidae</td>\n",
       "      <td>Adenomera</td>\n",
       "      <td>AdenomeraHylaedactylus</td>\n",
       "    </tr>\n",
       "    <tr>\n",
       "      <th>2272</th>\n",
       "      <td>Leptodactylidae</td>\n",
       "      <td>Adenomera</td>\n",
       "      <td>AdenomeraHylaedactylus</td>\n",
       "    </tr>\n",
       "  </tbody>\n",
       "</table>\n",
       "</div>"
      ],
      "text/plain": [
       "               Family      Genus                 Species\n",
       "1360  Leptodactylidae  Adenomera  AdenomeraHylaedactylus\n",
       "2328  Leptodactylidae  Adenomera  AdenomeraHylaedactylus\n",
       "1926  Leptodactylidae  Adenomera  AdenomeraHylaedactylus\n",
       "1332  Leptodactylidae  Adenomera  AdenomeraHylaedactylus\n",
       "2272  Leptodactylidae  Adenomera  AdenomeraHylaedactylus"
      ]
     },
     "execution_count": 4,
     "metadata": {},
     "output_type": "execute_result"
    }
   ],
   "source": [
    "y_training.head()"
   ]
  },
  {
   "cell_type": "markdown",
   "id": "f933709f",
   "metadata": {},
   "source": [
    "### (b) Each instance has three labels: Families, Genus, and Species. Each of the labels has multiple classes. We wish to solve a multi-class and multi-label problem. One of the most important approaches to multi-label classification is to train a classifier for each label (binary relevance). We first try this approach:"
   ]
  },
  {
   "cell_type": "markdown",
   "id": "4a2e1602",
   "metadata": {},
   "source": [
    "#### i. Research exact match and hamming score/ loss methods for evaluating multilabel classification and use them in evaluating the classifiers in this problem."
   ]
  },
  {
   "cell_type": "markdown",
   "id": "dd1848b5",
   "metadata": {},
   "source": [
    "Exact Match: whether all classes are exactly matched with the label. \n",
    "\n",
    "Hamming Score: the fraction of correct predictions compared to the total labels.\n",
    " \n",
    "Hamming Loss: how many times on average, the relevance of an example to a class label is incorrectly predicted. "
   ]
  },
  {
   "cell_type": "markdown",
   "id": "c644514f",
   "metadata": {},
   "source": [
    "#### ii. Train a SVM for each of the labels, using Gaussian kernels and one versus all classifiers. Determine the weight of the SVM penalty and the width of the Gaussian Kernel using 10 fold cross validation. You are welcome to try to solve the problem with both standardized and raw attributes and report the results."
   ]
  },
  {
   "cell_type": "code",
   "execution_count": 5,
   "id": "752154c5",
   "metadata": {},
   "outputs": [],
   "source": [
    "from sklearn.svm import SVC\n",
    "from sklearn.model_selection import GridSearchCV\n",
    "from sklearn.metrics import accuracy_score, hamming_loss\n",
    "# Since i don't standardize the data, it sometimes shows warning: \"ConvergenceWarning: Solver terminated early (max_iter=100).\"\n",
    "# Thus, I import the warnings here and try to ignore it\n",
    "import warnings\n",
    "warnings.filterwarnings('ignore')"
   ]
  },
  {
   "cell_type": "code",
   "execution_count": 6,
   "id": "1ffe2de7",
   "metadata": {},
   "outputs": [],
   "source": [
    "# using Gaussian kernels -> kernal = 'rbf'\n",
    "SVC_model = SVC(kernel = 'rbf', random_state = 526, max_iter = 100)\n",
    "\n",
    "c_range = np.logspace(-3, 6, 10)\n",
    "gamma_range = np.arange(0.1, 2.1, 0.1)\n",
    "\n",
    "parameters = {'C':c_range, 'gamma':gamma_range}\n",
    "\n",
    "y_Family = y_training['Family']\n",
    "y_Genus = y_training['Genus']\n",
    "y_Species = y_training['Species']"
   ]
  },
  {
   "cell_type": "code",
   "execution_count": 7,
   "id": "d04d48b2",
   "metadata": {},
   "outputs": [
    {
     "name": "stdout",
     "output_type": "stream",
     "text": [
      "-------------------------Family---------------------------\n",
      "Best params: weight of the SVM penalty(C): 10.0\n",
      "Best params: width of the Gaussian Kernel(gamma): 1.9000000000000001\n",
      "The accuracy score is:  0.9930523390458545\n"
     ]
    }
   ],
   "source": [
    "clf1 = GridSearchCV(SVC_model, parameters, cv = 10).fit(x_training, y_Family)\n",
    "bestClf_Family = clf1.best_estimator_\n",
    "\n",
    "y_Test_Family = y_testing['Family']\n",
    "y_predict_Family = bestClf_Family.predict(x_testing)\n",
    "\n",
    "# clf1.best_params_ -> {'C': __ , 'gamma': __}\n",
    "c1, gamma1 = clf1.best_params_['C'], clf1.best_params_['gamma']\n",
    "print(\"-------------------------Family---------------------------\")\n",
    "print(\"Best params: weight of the SVM penalty(C): \" + str(c1))\n",
    "print(\"Best params: width of the Gaussian Kernel(gamma): \" + str(gamma1))\n",
    "print(\"The accuracy score is: \", accuracy_score(y_Test_Family, y_predict_Family))"
   ]
  },
  {
   "cell_type": "code",
   "execution_count": 8,
   "id": "1592f933",
   "metadata": {},
   "outputs": [
    {
     "name": "stdout",
     "output_type": "stream",
     "text": [
      "-------------------------Genus---------------------------\n",
      "Best params: weight of the SVM penalty(C): 10.0\n",
      "Best params: width of the Gaussian Kernel(gamma): 1.6\n",
      "The accuracy score is:  0.9898100972672533\n"
     ]
    }
   ],
   "source": [
    "clf2 = GridSearchCV(SVC_model, parameters, cv = 10).fit(x_training, y_Genus)\n",
    "bestClf_Genus = clf2.best_estimator_\n",
    "\n",
    "y_Test_Genus = y_testing['Genus']\n",
    "y_predict_Genus = bestClf_Genus.predict(x_testing)\n",
    "\n",
    "c2, gamma2 = clf2.best_params_['C'], clf2.best_params_['gamma']\n",
    "print(\"-------------------------Genus---------------------------\")\n",
    "print(\"Best params: weight of the SVM penalty(C): \" + str(c2))\n",
    "print(\"Best params: width of the Gaussian Kernel(gamma): \" + str(gamma2))\n",
    "print(\"The accuracy score is: \", accuracy_score(y_Test_Genus, y_predict_Genus))"
   ]
  },
  {
   "cell_type": "code",
   "execution_count": 9,
   "id": "66aa85be",
   "metadata": {},
   "outputs": [
    {
     "name": "stdout",
     "output_type": "stream",
     "text": [
      "-------------------------Species---------------------------\n",
      "Best params: weight of the SVM penalty(C): 10.0\n",
      "Best params: width of the Gaussian Kernel(gamma): 1.6\n",
      "The accuracy score is:  0.9907364520611394\n"
     ]
    }
   ],
   "source": [
    "clf3 = GridSearchCV(SVC_model, parameters, cv = 10).fit(x_training, y_Species)\n",
    "bestClf_Species = clf3.best_estimator_\n",
    "\n",
    "y_Test_Species = y_testing['Species']\n",
    "y_predict_Species = bestClf_Species.predict(x_testing)\n",
    "\n",
    "c3, gamma3 = clf3.best_params_['C'], clf3.best_params_['gamma']\n",
    "print(\"-------------------------Species---------------------------\")\n",
    "print(\"Best params: weight of the SVM penalty(C): \" + str(c3))\n",
    "print(\"Best params: width of the Gaussian Kernel(gamma): \" + str(gamma3))\n",
    "print(\"The accuracy score is: \", accuracy_score(y_Test_Species, y_predict_Species))"
   ]
  },
  {
   "cell_type": "markdown",
   "id": "58bf8925",
   "metadata": {},
   "source": [
    "#### iii. Repeat 1(b)ii with L1-penalized SVMs. Remember to standardize the attributes. Determine the weight of the SVM penalty using 10 fold cross vali- dation."
   ]
  },
  {
   "cell_type": "code",
   "execution_count": 10,
   "id": "d7d49930",
   "metadata": {},
   "outputs": [],
   "source": [
    "from sklearn import preprocessing\n",
    "from sklearn.svm import LinearSVC"
   ]
  },
  {
   "cell_type": "code",
   "execution_count": 11,
   "id": "1c8b558b",
   "metadata": {},
   "outputs": [],
   "source": [
    "std_scaler = preprocessing.StandardScaler()\n",
    "\n",
    "std_xTraining = std_scaler.fit_transform(x_training)\n",
    "std_xTesting = std_scaler.transform(x_testing)"
   ]
  },
  {
   "cell_type": "code",
   "execution_count": 12,
   "id": "e40587db",
   "metadata": {},
   "outputs": [],
   "source": [
    "# here the parameter only contain C, since gamma is for Gaussian Kernal\n",
    "parameters = {'C': c_range}\n",
    "\n",
    "# multi_class = \"ovr\" -> trains n_classes one-vs-rest classifiers\n",
    "# since n_samples > n_features, so I use dual = False\n",
    "SVC_L1_Model = LinearSVC(penalty = 'l1', multi_class = 'ovr', dual = False, random_state = 526)"
   ]
  },
  {
   "cell_type": "code",
   "execution_count": 13,
   "id": "86a5ceb9",
   "metadata": {},
   "outputs": [
    {
     "name": "stdout",
     "output_type": "stream",
     "text": [
      "-------------------------L1_Family---------------------------\n",
      "Best params: weight of the SVM penalty(C): 1.0\n",
      "The accuracy score is:  0.9393237610004632\n"
     ]
    }
   ],
   "source": [
    "L1_clf1 = GridSearchCV(SVC_L1_Model, parameters, cv = 10).fit(std_xTraining, y_Family)\n",
    "L1_bestClf_Family = L1_clf1.best_estimator_\n",
    "\n",
    "L1_y_predict_Family = L1_bestClf_Family.predict(std_xTesting)\n",
    "\n",
    "l1_c1 = L1_clf1.best_params_['C']\n",
    "\n",
    "print(\"-------------------------L1_Family---------------------------\")\n",
    "print(\"Best params: weight of the SVM penalty(C): \" + str(l1_c1))\n",
    "print(\"The accuracy score is: \", accuracy_score(y_Test_Family, L1_y_predict_Family))"
   ]
  },
  {
   "cell_type": "code",
   "execution_count": 14,
   "id": "6d427340",
   "metadata": {},
   "outputs": [
    {
     "name": "stdout",
     "output_type": "stream",
     "text": [
      "-------------------------L1_Genus---------------------------\n",
      "Best params: weight of the SVM penalty(C): 10.0\n",
      "The accuracy score is:  0.9541454377026402\n"
     ]
    }
   ],
   "source": [
    "L1_clf2 = GridSearchCV(SVC_L1_Model, parameters, cv = 10).fit(std_xTraining, y_Genus)\n",
    "L1_bestClf_Genus = L1_clf2.best_estimator_\n",
    "\n",
    "L1_y_predict_Genus = L1_bestClf_Genus.predict(std_xTesting)\n",
    "\n",
    "l1_c2 = L1_clf2.best_params_['C']\n",
    "\n",
    "print(\"-------------------------L1_Genus---------------------------\")\n",
    "print(\"Best params: weight of the SVM penalty(C): \" + str(l1_c2))\n",
    "print(\"The accuracy score is: \", accuracy_score(y_Test_Genus, L1_y_predict_Genus))"
   ]
  },
  {
   "cell_type": "code",
   "execution_count": 15,
   "id": "e8e98736",
   "metadata": {},
   "outputs": [
    {
     "name": "stdout",
     "output_type": "stream",
     "text": [
      "-------------------------L1_Species---------------------------\n",
      "Best params: weight of the SVM penalty(C): 1.0\n",
      "The accuracy score is:  0.9578508568781844\n"
     ]
    }
   ],
   "source": [
    "L1_clf3 = GridSearchCV(SVC_L1_Model, parameters, cv = 10).fit(std_xTraining, y_Species)\n",
    "\n",
    "L1_bestClf_Species = L1_clf3.best_estimator_\n",
    "L1_y_predict_Species = L1_bestClf_Species.predict(std_xTesting)\n",
    "\n",
    "l1_c3 = L1_clf3.best_params_['C']\n",
    "\n",
    "print(\"-------------------------L1_Species---------------------------\")\n",
    "print(\"Best params: weight of the SVM penalty(C): \" + str(l1_c3))\n",
    "print(\"The accuracy score is: \", accuracy_score(y_Test_Species, L1_y_predict_Species))"
   ]
  },
  {
   "cell_type": "markdown",
   "id": "40180d78",
   "metadata": {},
   "source": [
    "#### iv. Repeat 1(b)iii by using SMOTE or any other method you know to remedy class imbalance. Report your conclusions about the classifiers you trained."
   ]
  },
  {
   "cell_type": "code",
   "execution_count": 16,
   "id": "b3572057",
   "metadata": {},
   "outputs": [],
   "source": [
    "from imblearn.over_sampling import SMOTE"
   ]
  },
  {
   "cell_type": "code",
   "execution_count": 17,
   "id": "8739daf6",
   "metadata": {},
   "outputs": [],
   "source": [
    "smote = SMOTE()\n",
    "\n",
    "smote_xTraining1, smote_y_Family = smote.fit_resample(std_xTraining, y_Family)\n",
    "smote_xTraining2, smote_y_Genus = smote.fit_resample(std_xTraining, y_Genus)\n",
    "smote_xTraining3, smote_y_Species = smote.fit_resample(std_xTraining, y_Species)\n",
    "\n",
    "smote_xTesting1, smote_y_Testing_Family = smote.fit_resample(std_xTesting, y_Test_Family)\n",
    "smote_xTesting2, smote_y_Testing_Genus = smote.fit_resample(std_xTesting, y_Test_Genus)\n",
    "smote_xTesting3, smote_y_Testing_Species = smote.fit_resample(std_xTesting, y_Test_Species)"
   ]
  },
  {
   "cell_type": "code",
   "execution_count": 18,
   "id": "b4304ce0",
   "metadata": {},
   "outputs": [
    {
     "name": "stdout",
     "output_type": "stream",
     "text": [
      "-------------------------Training Set---------------------------\n",
      "Counts(Family): Leptodactylidae    3069\n",
      "Dendrobatidae      3069\n",
      "Hylidae            3069\n",
      "Bufonidae          3069\n",
      "Name: Family, dtype: int64\n",
      "Counts(Genus): Adenomera        2886\n",
      "Ameerega         2886\n",
      "Osteocephalus    2886\n",
      "Hypsiboas        2886\n",
      "Dendropsophus    2886\n",
      "Leptodactylus    2886\n",
      "Scinax           2886\n",
      "Rhinella         2886\n",
      "Name: Genus, dtype: int64\n",
      "Counts(Species): AdenomeraHylaedactylus    2412\n",
      "Ameeregatrivittata        2412\n",
      "AdenomeraAndre            2412\n",
      "OsteocephalusOophagus     2412\n",
      "HypsiboasCordobae         2412\n",
      "HylaMinuta                2412\n",
      "HypsiboasCinerascens      2412\n",
      "LeptodactylusFuscus       2412\n",
      "ScinaxRuber               2412\n",
      "Rhinellagranulosa         2412\n",
      "Name: Species, dtype: int64\n",
      "-------------------------Testing Set---------------------------\n",
      "Counts(Family): Hylidae            1351\n",
      "Leptodactylidae    1351\n",
      "Dendrobatidae      1351\n",
      "Bufonidae          1351\n",
      "Name: Family, dtype: int64\n",
      "Counts(Genus): Hypsiboas        1264\n",
      "Leptodactylus    1264\n",
      "Adenomera        1264\n",
      "Ameerega         1264\n",
      "Dendropsophus    1264\n",
      "Scinax           1264\n",
      "Osteocephalus    1264\n",
      "Rhinella         1264\n",
      "Name: Genus, dtype: int64\n",
      "Counts(Species): HypsiboasCinerascens      1066\n",
      "LeptodactylusFuscus       1066\n",
      "AdenomeraHylaedactylus    1066\n",
      "Ameeregatrivittata        1066\n",
      "HylaMinuta                1066\n",
      "ScinaxRuber               1066\n",
      "HypsiboasCordobae         1066\n",
      "AdenomeraAndre            1066\n",
      "OsteocephalusOophagus     1066\n",
      "Rhinellagranulosa         1066\n",
      "Name: Species, dtype: int64\n"
     ]
    }
   ],
   "source": [
    "print(\"-------------------------Training Set---------------------------\")\n",
    "print(\"Counts(Family): \" + str(smote_y_Family.value_counts()))\n",
    "print(\"Counts(Genus): \" + str(smote_y_Genus.value_counts()))\n",
    "print(\"Counts(Species): \" + str(smote_y_Species.value_counts()))\n",
    "\n",
    "print(\"-------------------------Testing Set---------------------------\")\n",
    "print(\"Counts(Family): \" + str(smote_y_Testing_Family.value_counts()))\n",
    "print(\"Counts(Genus): \" + str(smote_y_Testing_Genus.value_counts()))\n",
    "print(\"Counts(Species): \" + str(smote_y_Testing_Species.value_counts()))"
   ]
  },
  {
   "cell_type": "code",
   "execution_count": 19,
   "id": "e7680ad7",
   "metadata": {},
   "outputs": [],
   "source": [
    "parameters = {'C': c_range}\n",
    "SVC_L1_Model = LinearSVC(penalty = 'l1', multi_class = 'ovr', dual = False, random_state = 526)"
   ]
  },
  {
   "cell_type": "code",
   "execution_count": 20,
   "id": "b43fefb7",
   "metadata": {},
   "outputs": [
    {
     "name": "stdout",
     "output_type": "stream",
     "text": [
      "-------------------------Smote L1_Family---------------------------\n",
      "Best params: weight of the SVM penalty(C): 1000.0\n",
      "The accuracy score is:  0.9433752775721688\n"
     ]
    }
   ],
   "source": [
    "smote_L1_clf1 = GridSearchCV(SVC_L1_Model, parameters, cv = 10).fit(smote_xTraining1, smote_y_Family)\n",
    "smote_L1_bestClf_Family = smote_L1_clf1.best_estimator_\n",
    "\n",
    "smote_L1_y_predict_Family = smote_L1_bestClf_Family.predict(smote_xTesting1)\n",
    "\n",
    "smote_l1_c1 = smote_L1_clf1.best_params_['C']\n",
    "\n",
    "print(\"-------------------------Smote L1_Family---------------------------\")\n",
    "print(\"Best params: weight of the SVM penalty(C): \" + str(smote_l1_c1))\n",
    "print(\"The accuracy score is: \", accuracy_score(smote_y_Testing_Family, smote_L1_y_predict_Family))"
   ]
  },
  {
   "cell_type": "code",
   "execution_count": 21,
   "id": "e5166082",
   "metadata": {},
   "outputs": [
    {
     "name": "stdout",
     "output_type": "stream",
     "text": [
      "-------------------------Smote L1_Genus---------------------------\n",
      "Best params: weight of the SVM penalty(C): 1.0\n",
      "The accuracy score is:  0.948378164556962\n"
     ]
    }
   ],
   "source": [
    "smote_L1_clf2 = GridSearchCV(SVC_L1_Model, parameters, cv = 10).fit(smote_xTraining2, smote_y_Genus)\n",
    "smote_L1_bestClf_Genus = smote_L1_clf2.best_estimator_\n",
    "\n",
    "smote_L1_y_predict_Genus = smote_L1_bestClf_Genus.predict(smote_xTesting2)\n",
    "\n",
    "smote_l1_c2 = smote_L1_clf2.best_params_['C']\n",
    "\n",
    "print(\"-------------------------Smote L1_Genus---------------------------\")\n",
    "print(\"Best params: weight of the SVM penalty(C): \" + str(smote_l1_c2))\n",
    "print(\"The accuracy score is: \", accuracy_score(smote_y_Testing_Genus, smote_L1_y_predict_Genus))"
   ]
  },
  {
   "cell_type": "code",
   "execution_count": 22,
   "id": "46104beb",
   "metadata": {},
   "outputs": [
    {
     "name": "stdout",
     "output_type": "stream",
     "text": [
      "-------------------------Smote L1_Species---------------------------\n",
      "Best params: weight of the SVM penalty(C): 10.0\n",
      "The accuracy score is:  0.9563789868667918\n"
     ]
    }
   ],
   "source": [
    "smote_L1_clf3 = GridSearchCV(SVC_L1_Model, parameters, cv = 10).fit(smote_xTraining3, smote_y_Species)\n",
    "smote_L1_bestClf_Species = smote_L1_clf3.best_estimator_\n",
    "\n",
    "smote_L1_y_predict_Species = smote_L1_bestClf_Species.predict(smote_xTesting3)\n",
    "\n",
    "smote_l1_c3 = smote_L1_clf3.best_params_['C']\n",
    "\n",
    "print(\"-------------------------Smote L1_Species---------------------------\")\n",
    "print(\"Best params: weight of the SVM penalty(C): \" + str(smote_l1_c3))\n",
    "print(\"The accuracy score is: \", accuracy_score(smote_y_Testing_Species, smote_L1_y_predict_Species))"
   ]
  },
  {
   "cell_type": "markdown",
   "id": "ff9304f0",
   "metadata": {},
   "source": [
    "Conclusion: In this problem, Gaussian kernels(RBF) performs the best, which has the higher accuracy than L1-penalized SVMs and the model using SMOTE."
   ]
  },
  {
   "cell_type": "markdown",
   "id": "48aafd65",
   "metadata": {},
   "source": [
    "## 2. K-Means Clustering on a Multi-Class and Multi-Label Data Set"
   ]
  },
  {
   "cell_type": "markdown",
   "id": "2f36816c",
   "metadata": {},
   "source": [
    "Monte-Carlo Simulation:  \n",
    "Perform the following procedures 50 times, and report the average and standard deviation of the 50 Hamming Distances that you calculate."
   ]
  },
  {
   "cell_type": "markdown",
   "id": "dba91c58",
   "metadata": {},
   "source": [
    "### (a) Use k-means clustering on the whole Anuran Calls (MFCCs) Data Set (do not split the data into train and test, as we are not performing supervised learning in this exercise). Choose k ∈ {1, 2, . . . , 50} automatically based on one of the methods provided in the slides (CH or Gap Statistics or scree plots or Silhouettes) or any other method you know. "
   ]
  },
  {
   "cell_type": "markdown",
   "id": "62b958e4",
   "metadata": {},
   "source": [
    "Here, I'll choose Silhouette method to deal with this problem. \n",
    "The Silhouette score is used to measure the degree of separation between clusters."
   ]
  },
  {
   "cell_type": "code",
   "execution_count": 23,
   "id": "4c1cd42f",
   "metadata": {},
   "outputs": [
    {
     "name": "stdout",
     "output_type": "stream",
     "text": [
      "best k:  4\n",
      "Max Silhouettes score:  0.3787509343305295\n"
     ]
    }
   ],
   "source": [
    "from sklearn.cluster import KMeans\n",
    "from sklearn.metrics import silhouette_score\n",
    "\n",
    "best_K = 1\n",
    "maxScore = 0\n",
    "\n",
    "for k in range(2, 51):\n",
    "    model = KMeans(n_clusters = k)\n",
    "    labels = model.fit_predict(x_data)\n",
    "    score = silhouette_score(x_data, labels, metric = 'euclidean')\n",
    "    if score > maxScore:\n",
    "        maxScore = score\n",
    "        best_K = k\n",
    "print('best k: ', best_K)\n",
    "print('Max Silhouettes score: ', maxScore)"
   ]
  },
  {
   "cell_type": "markdown",
   "id": "7a7a8eb8",
   "metadata": {},
   "source": [
    "Just my practice. Below is the Elbow Plot."
   ]
  },
  {
   "cell_type": "code",
   "execution_count": 24,
   "id": "20ef35eb",
   "metadata": {},
   "outputs": [
    {
     "data": {
      "image/png": "[encoded data removed]",
      "text/plain": [
       "<Figure size 432x288 with 1 Axes>"
      ]
     },
     "metadata": {
      "needs_background": "light"
     },
     "output_type": "display_data"
    }
   ],
   "source": [
    "import matplotlib.pyplot as plt\n",
    "\n",
    "clusters = []\n",
    "inertia_vals = []\n",
    "\n",
    "for k in range(2, 51):\n",
    "    # train clustering with the specified K\n",
    "    model = KMeans(n_clusters = k, random_state = 7)\n",
    "    model.fit(x_data)\n",
    "    # append model to cluster list\n",
    "    clusters.append(model)\n",
    "    inertia_vals.append(model.inertia_)\n",
    "\n",
    "# plot the inertia vs K values\n",
    "plt.plot(range(2, 51, 1), inertia_vals, marker='*')\n",
    "plt.show()"
   ]
  },
  {
   "cell_type": "markdown",
   "id": "7f9307eb",
   "metadata": {},
   "source": [
    "### (b) In each cluster, determine which family is the majority by reading the true labels. Repeat for genus and species."
   ]
  },
  {
   "cell_type": "code",
   "execution_count": 25,
   "id": "61fc7426",
   "metadata": {},
   "outputs": [],
   "source": [
    "model = KMeans(n_clusters = best_K, random_state = 526)\n",
    "labels = model.fit_predict(x_data)"
   ]
  },
  {
   "cell_type": "code",
   "execution_count": 26,
   "id": "48c97e38",
   "metadata": {},
   "outputs": [
    {
     "data": {
      "text/plain": [
       "1    3568\n",
       "2    1982\n",
       "3    1031\n",
       "0     614\n",
       "dtype: int64"
      ]
     },
     "execution_count": 26,
     "metadata": {},
     "output_type": "execute_result"
    }
   ],
   "source": [
    "pd.Series(labels).value_counts()"
   ]
  },
  {
   "cell_type": "code",
   "execution_count": 27,
   "id": "8172b997",
   "metadata": {},
   "outputs": [],
   "source": [
    "y_all_Family = y_data['Family']\n",
    "y_all_Genus = y_data['Genus']\n",
    "y_all_Species = y_data['Species']"
   ]
  },
  {
   "cell_type": "code",
   "execution_count": 28,
   "id": "d2c79fc5",
   "metadata": {
    "code_folding": []
   },
   "outputs": [
    {
     "name": "stdout",
     "output_type": "stream",
     "text": [
      "\n",
      "-------------------------Cluster 0---------------------------\n",
      "Majority in Family: Hylidae\n",
      "Majority in Genus: Hypsiboas\n",
      "Majority in Species: HypsiboasCinerascens\n",
      "\n",
      "-------------------------Cluster 1---------------------------\n",
      "Majority in Family: Leptodactylidae\n",
      "Majority in Genus: Adenomera\n",
      "Majority in Species: AdenomeraHylaedactylus\n",
      "\n",
      "-------------------------Cluster 2---------------------------\n",
      "Majority in Family: Hylidae\n",
      "Majority in Genus: Hypsiboas\n",
      "Majority in Species: HypsiboasCordobae\n",
      "\n",
      "-------------------------Cluster 3---------------------------\n",
      "Majority in Family: Dendrobatidae\n",
      "Majority in Genus: Ameerega\n",
      "Majority in Species: Ameeregatrivittata\n"
     ]
    }
   ],
   "source": [
    "for i in range(best_K):\n",
    "    index_of_cluster = list(pd.Series(labels).index[labels == i])\n",
    "    # count the nums in each category and find the majority\n",
    "    majority_Family = y_all_Family[index_of_cluster].value_counts(sort = True, ascending = False).index[0]\n",
    "    majority_Genus = y_all_Genus[index_of_cluster].value_counts(sort = True, ascending = False).index[0]\n",
    "    majority_Species = y_all_Species[index_of_cluster].value_counts(sort = True, ascending = False).index[0]\n",
    "    \n",
    "    print()\n",
    "    print('-------------------------Cluster ' + str(i) + '---------------------------')\n",
    "    print('Majority in Family:', majority_Family)\n",
    "    print('Majority in Genus:', majority_Genus)\n",
    "    print('Majority in Species:', majority_Species)"
   ]
  },
  {
   "cell_type": "markdown",
   "id": "e6805ad3",
   "metadata": {},
   "source": [
    "### (c) Now for each cluster you have a majority label triplet (family, genus, species). Calculate the average Hamming distance, Hamming score, and Hamming loss between the true labels and the labels assigned by clusters."
   ]
  },
  {
   "cell_type": "code",
   "execution_count": 29,
   "id": "c04b85d9",
   "metadata": {},
   "outputs": [],
   "source": [
    "def getHammingScore(predict, label):\n",
    "    \n",
    "    total = predict.shape[0] * predict.shape[1]\n",
    "    count = 0\n",
    "    \n",
    "    for i, r in enumerate(predict.iterrows()):\n",
    "        for j in range(predict.shape[1]):\n",
    "            if predict.iloc[i].tolist()[j] == label.iloc[i].tolist()[j]:\n",
    "                count += 1\n",
    "    return count/total"
   ]
  },
  {
   "cell_type": "code",
   "execution_count": 30,
   "id": "ffc47ddb",
   "metadata": {},
   "outputs": [],
   "source": [
    "def getHammingDistance(predict, label):\n",
    "\n",
    "    count = 0\n",
    "    for i, row in enumerate(predict.iterrows()):\n",
    "        for j in range(predict.shape[1]):\n",
    "            if predict.iloc[i].tolist()[j] != label.iloc[i].tolist()[j]:\n",
    "                count += 1\n",
    "    return count"
   ]
  },
  {
   "cell_type": "code",
   "execution_count": 31,
   "id": "ba6751f9",
   "metadata": {},
   "outputs": [
    {
     "name": "stdout",
     "output_type": "stream",
     "text": [
      "Average Hamming Disance 4801.0\n",
      "Average Hamming Score 0.78\n",
      "Average Hamming Loss 0.22\n"
     ]
    }
   ],
   "source": [
    "hammingDistance_list = list()\n",
    "hammingScore_list = list()\n",
    "hammingLoss_list = list()\n",
    "\n",
    "# the question asks to perfrom for 50 times\n",
    "for i in range(50):\n",
    "    model = KMeans(n_clusters = best_K, random_state = 526)\n",
    "    labels = model.fit_predict(x_data)\n",
    "    labels = pd.Series(labels)\n",
    "    \n",
    "    # store the (three) majority of columns in each cluster\n",
    "    Majority_in_each_cluster = dict()\n",
    "    # store the index of data in each cluster\n",
    "    index_of_cluster = dict()\n",
    "    \n",
    "    for k in range(best_K):\n",
    "        index_of_cluster[k] = list(pd.Series(labels).index[labels == k])\n",
    "        majority_Family = y_all_Family[index_of_cluster[k]].value_counts(sort = True, ascending = False).index[0]\n",
    "        majority_Genus = y_all_Genus[index_of_cluster[k]].value_counts(sort = True, ascending = False).index[0]\n",
    "        majority_Species = y_all_Species[index_of_cluster[k]].value_counts(sort = True, ascending = False).index[0]\n",
    "        \n",
    "        Majority_in_each_cluster[k] = [majority_Family, majority_Genus, majority_Species]\n",
    "        \n",
    "    # create empty dataframe with three columns(Family, Genus, Species)\n",
    "    y_labels = pd.DataFrame(columns = y_data.columns, index = y_data.index)\n",
    "    \n",
    "    # fill in the value\n",
    "    for k in range(best_K):\n",
    "        for index in index_of_cluster[k]:\n",
    "            # find the corresponding value\n",
    "            y_labels.iloc[index] = Majority_in_each_cluster[k]\n",
    "    \n",
    "    hammingDistance = getHammingDistance(y_labels, y_data) # y_labels and y_data are both dataframe\n",
    "    hammingDistance_list.append(hammingDistance)\n",
    "    \n",
    "    hammingScore = getHammingScore(y_labels, y_data)\n",
    "    hammingScore_list.append(hammingScore)\n",
    "    \n",
    "    hammingLoss = 1 - hammingScore\n",
    "    hammingLoss_list.append(hammingLoss)\n",
    "\n",
    "print('Average Hamming Disance', round(np.array(hammingDistance_list).mean(), 2))\n",
    "print('Average Hamming Score', round(np.array(hammingScore_list).mean(), 2))\n",
    "print('Average Hamming Loss', round(np.array(hammingLoss_list).mean(), 2))"
   ]
  },
  {
   "cell_type": "markdown",
   "id": "9a24979e",
   "metadata": {},
   "source": [
    "## Reference:"
   ]
  },
  {
   "cell_type": "markdown",
   "id": "c3bc7937",
   "metadata": {},
   "source": [
    "Q1.  \n",
    "-> https://scikit-learn.org/stable/modules/generated/sklearn.model_selection.GridSearchCV.html"
   ]
  },
  {
   "cell_type": "markdown",
   "id": "08963382",
   "metadata": {},
   "source": [
    "Q2.  \n",
    "-> https://towardsdatascience.com/unsupervised-learning-techniques-using-python-k-means-and-silhouette-score-for-clustering-d6dd1f30b660 \n",
    " \n",
    "-> https://scikit-learn.org/stable/modules/generated/sklearn.metrics.silhouette_score.html"
   ]
  }
 ],
 "metadata": {
  "kernelspec": {
   "display_name": "Python 3",
   "language": "python",
   "name": "python3"
  },
  "language_info": {
   "codemirror_mode": {
    "name": "ipython",
    "version": 3
   },
   "file_extension": ".py",
   "mimetype": "text/x-python",
   "name": "python",
   "nbconvert_exporter": "python",
   "pygments_lexer": "ipython3",
   "version": "3.7.2"
  },
  "toc": {
   "base_numbering": 1,
   "nav_menu": {},
   "number_sections": true,
   "sideBar": true,
   "skip_h1_title": false,
   "title_cell": "Table of Contents",
   "title_sidebar": "Contents",
   "toc_cell": false,
   "toc_position": {},
   "toc_section_display": true,
   "toc_window_display": false
  }
 },
 "nbformat": 4,
 "nbformat_minor": 5
}
